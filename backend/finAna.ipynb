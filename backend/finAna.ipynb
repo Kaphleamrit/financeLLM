{
 "cells": [
  {
   "cell_type": "code",
   "execution_count": 129,
   "metadata": {},
   "outputs": [
    {
     "name": "stdout",
     "output_type": "stream",
     "text": [
      "[<p class=\"duet--article--dangerously-set-cms-markup\">If you believe in the work we do at Vox, <b>please support us by becoming a member.</b> Our mission has never been more urgent. But our work isn’t easy. It requires resources, dedication, and independence. And that’s where you come in.</p>, <p class=\"duet--article--dangerously-set-cms-markup _1juo5fma\">We rely on readers like you to fund our journalism. <strong>Will you support our work and become a Vox Member today?</strong></p>, <p class=\"duet--article--dangerously-set-cms-markup h74scy9 h74scy8 xkp0cg9\">What the fight between Anthem and anesthesiologists was really about.</p>, <p class=\"\"><span>by</span> <span><span></span> <span class=\"_15r56j12 _15r56j13\"><a href=\"/authors/eric-levitz\">Eric Levitz</a></span></span></p>, <p class=\"duet--article--dangerously-set-cms-markup duet--article--standard-paragraph _1agbrixh lg8ac51 lg8ac50 xkp0cg0\">In November, the American Society of Anesthesiologists (ASA) <a href=\"https://www.asahq.org/about-asa/newsroom/news-releases/2024/11/anthem-blue-cross-blue-shield-will-not-pay-complete-duration-of-anesthesia-for-surgical-procedures\">issued a dire warning</a>: One of America’s largest insurance companies — Anthem Blue Cross and Blue Shield — had just “unilaterally declared it will no longer pay for anesthesia care if the surgery or procedure goes beyond an arbitrary time limit, regardless of how long the surgical procedure takes.” The decision applied to Anthem’s plans in Connecticut, New York, and Missouri. </p>, <p class=\"duet--article--dangerously-set-cms-markup duet--article--standard-paragraph _1agbrixh lg8ac51 lg8ac50 xkp0cg0\">This announcement gained national attention Wednesday, after the <a href=\"https://www.nytimes.com/2024/12/04/nyregion/unitedhealthcare-brian-thompson-shooting.html\">fatal shooting of UnitedHealthcare CEO Brian Thompson</a> parked widespread discussion of controversial insurance industry practices on social media. A <a href=\"https://www.npr.org/2024/12/05/nx-s1-5217617/blue-cross-blue-shield-anesthesia-anthem\">populist furor against Anthem ensued</a>. People imagined patients waking up from surgery to find they owed thousands of dollars because their procedure went 15 minutes long. </p>, <p class=\"duet--article--dangerously-set-cms-markup duet--article--standard-paragraph _1agbrixh lg8ac51 lg8ac50 xkp0cg0\">Rage at the insurer spread from <a href=\"https://x.com/PopCrave/status/1864408802981777455/quotes\">X users</a> to government officials, with Connecticut Sen. <a href=\"https://x.com/ChrisMurphyCT/status/1864430606752358887\">Chris Murphy</a> and New York Gov. <a href=\"https://x.com/GovKathyHochul/status/1864495315362926753\">Kathy Hochul</a> both condemning the insurer’s decision, with the former tweeting, “This is appalling. Saddling patients with thousands of dollars in surprise additional medical debt. And for what? Just to boost corporate profits?” By Thursday, <a href=\"https://providernews.anthem.com/new-york/articles/update-to-anesthesia-billed-time-units-policy-23312\">Anthem had revoked the policy</a>.</p>, <p class=\"duet--article--dangerously-set-cms-markup duet--article--standard-paragraph _1agbrixh lg8ac51 lg8ac50 xkp0cg0\">Yet this whole tumult was badly misguided. </p>, <p class=\"duet--article--dangerously-set-cms-markup duet--article--standard-paragraph _1agbrixh lg8ac51 lg8ac50 xkp0cg0\">Americans have many justified grievances with insurance companies, which often refuse to cover necessary care.</p>, <p class=\"duet--article--dangerously-set-cms-markup duet--article--standard-paragraph _1agbrixh lg8ac51 lg8ac50 xkp0cg0\">But this particular fight was not actually about putting the interests of patients against those of rapacious corporations. Anthem’s policy would not have increased costs for their enrollees. Rather, it would have reduced payments for some of <a href=\"https://www.inspiraadvantage.com/blog/highest-paid-doctors-in-the-us\">the most overpaid physicians in America</a>. And when millionaire doctors beat back cost controls — as they have here — patients pay the price through higher premiums. </p>, <p class=\"duet--article--dangerously-set-cms-markup duet--article--standard-paragraph _1agbrixh lg8ac51 lg8ac50 xkp0cg0\">Anesthesia services are billed partially on the basis of <a href=\"https://www.coronishealth.com/blog/why-is-time-important-when-billing-for-anesthesia-services#\">how long a procedure takes</a>. This creates an incentive for anesthesiologists to err on the side of exaggerating how long their services were required during an operation. And there is <a href=\"https://jamanetwork.com/journals/jamanetworkopen/fullarticle/2713030\">evidence</a> that some anesthesiologists may engage in overbilling by overstating the length of a procedure, or the degree of risk a patient faces in undergoing anesthesia.</p>, <p class=\"duet--article--dangerously-set-cms-markup duet--article--standard-paragraph _1agbrixh lg8ac51 lg8ac50 xkp0cg0\">Starting in February, Anthem had planned to discourage overbilling by adopting a set of maximum time limits for procedures, inspired by data from the Centers for Medicare and Medicaid Services. If an operation went long for medically necessary reasons, anesthesiologists could appeal for higher payment. But the process of reimbursement would be more arduous. </p>, <p class=\"duet--article--dangerously-set-cms-markup duet--article--standard-paragraph _1agbrixh lg8ac51 lg8ac50 xkp0cg0\">Critically, contrary to Sen. Murphy’s claims, this policy would not have saddled patients with surprise bills, if their operations went over time. The burden of this cost control would have fallen on participating anesthesiologists, not patients, according to <a href=\"https://bloch.umkc.edu/profiles/faculty-directory/christopher-garmon.html\">Christopher Garmon</a>, associate professor of health administration at the University of Missouri-Kansas City’s Henry W. Bloch School of Management.</p>, <p class=\"duet--article--dangerously-set-cms-markup duet--article--standard-paragraph _1agbrixh lg8ac51 lg8ac50 xkp0cg0\">“Say there is a contract between an insurance company like Anthem and an anesthesiologist,” Garmon told Vox. “What is always in that contract is a clause that says, ‘You, the provider, agree to accept the reimbursement rules in this contract as payment in full.’ That means the provider cannot then turn around and ask [the patient] for money.”</p>, <p class=\"duet--article--dangerously-set-cms-markup duet--article--standard-paragraph _1agbrixh lg8ac51 lg8ac50 xkp0cg0\">Private insurance companies have earned the public’s distrust. They routinely put profitability above their policyholders’ well-being. And a system of private health insurance provision also has <a href=\"https://www.peoplespolicyproject.org/2020/12/11/cbo-medicare-for-all-reduces-health-spending/\">higher administrative costs than a single-payer system</a>, in which the government is the sole insurer.</p>, <p class=\"duet--article--dangerously-set-cms-markup duet--article--standard-paragraph _1agbrixh lg8ac51 lg8ac50 xkp0cg0\">But the avarice and inefficiencies of private insurers are not the sole — or even primary — reasons why vital medical services are often unaffordable and inaccessible in the United States. The bigger issue is that America’s health care providers — hospitals, physicians, and <a href=\"https://www.rand.org/news/press/2024/02/01.html\">drug companies</a> — charge much higher rates than their peers in other wealthy nations. </p>, <p class=\"duet--article--dangerously-set-cms-markup duet--article--standard-paragraph _1agbrixh lg8ac51 lg8ac50 xkp0cg0\">In 2021, the US spent nearly <a href=\"https://www.healthsystemtracker.org/chart-collection/health-spending-u-s-compare-countries/\">twice as much per capita</a> on health care than other developed countries. According to the <a href=\"https://www.healthsystemtracker.org/brief/what-drives-health-spending-in-the-u-s-compared-to-other-countries/#Healthcare%20spending%20per%20capita,%20by%20spending%20category,%202021\">Kaiser Family Foundation</a>, this gap is mostly explained by higher payments to hospitals and physicians. Americans spend $7,500 per person on inpatient and outpatient care, while other rich nations spend an average of $2,969 per person. This is not because Americans are receiving more medical care than their peers abroad; on the contrary, we make fewer doctors’ visits per capita and have shorter average hospital stays. We just pay much higher prices. </p>, <p class=\"duet--article--dangerously-set-cms-markup duet--article--standard-paragraph _1agbrixh lg8ac51 lg8ac50 xkp0cg0\">In 2023, the <a href=\"https://www.beckersasc.com/asc-news/physician-compensation-in-the-us-vs-10-other-countries.html#2\">average physician salary</a> in the United States was $352,000. In Germany, that figure was $160,000; in the United Kingdom, it was $122,000; in France, it was $93,000.</p>, <p class=\"duet--article--dangerously-set-cms-markup duet--article--standard-paragraph _1agbrixh lg8ac51 lg8ac50 xkp0cg0\">This discrepancy is partly explained by the fact that those European nations have more socialized health care systems, in which the government imposes more cost controls on medical providers. In the past, progressives have emphasized that a Medicare-for-all system would reduce overall health care costs by forcing providers to accept lower payments.</p>, <p class=\"duet--article--dangerously-set-cms-markup duet--article--standard-paragraph _1agbrixh lg8ac51 lg8ac50 xkp0cg0\">With its new policy, Anthem was attempting to do precisely this: force anesthesiologists to accept lower rates of reimbursement. </p>, <p class=\"duet--article--dangerously-set-cms-markup duet--article--standard-paragraph _1agbrixh lg8ac51 lg8ac50 xkp0cg0\">And the case for forcing down payment rates for anesthesiologists is especially strong. According to Medscape’s <a href=\"https://www.medscape.com/slideshow/2024-compensation-anesthesiologist-6017131?icd=login_success_email_match_norm\">2024 Anesthesiologist Salary Report</a>, the average salary for an American <a href=\"https://comphealth.com/resources/anesthesiologist-salary-report-2024\">anesthesiologist in 2023 was $472,000</a>. This represented a $70,000 increase over the field’s average salary in 2022. This makes anesthesiologists among the top five highest-earning specialists in the United States.</p>, <p class=\"duet--article--dangerously-set-cms-markup duet--article--standard-paragraph _1agbrixh lg8ac51 lg8ac50 xkp0cg0\">If we want America’s health care system to treat more patients — while charging us all less money for coverage — then there is no alternative to forcing myriad specialists to accept lower payment rates. Ideally, we would do this through a comprehensive system of public cost controls and insurance provision. Failing that, we need private insurers to drive a harder bargain with the most expensive doctors and hospitals. When we demonize insurers for doing precisely that, we aren’t standing up against our health care sector’s profiteers — we’re sticking up for them.</p>, <p class=\"_1tzd3in1\">You’ve read <!-- -->1<!-- --> article<!-- --> in the last month</p>, <p class=\"_1tzd3in4\">Here at Vox, we're unwavering in our commitment to covering the issues that matter most to you — threats to democracy, immigration, reproductive rights, the environment, and the rising polarization across this country.</p>, <p class=\"_1tzd3in4\">Our mission is to provide clear, accessible journalism that empowers you to stay informed and engaged in shaping our world. By becoming a<!-- --> <!-- -->Vox Member, you directly strengthen our ability to deliver in-depth, independent reporting that drives meaningful change.</p>, <p class=\"_1tzd3in4\">We rely on readers like you — join us.</p>, <p class=\"_1tzd3in8\">Swati Sharma</p>, <p class=\"_1tzd3in9\">Vox Editor-in-Chief</p>, <p>We accept credit card, Apple Pay, and Google Pay. <br/>You can also contribute via</p>, <p class=\"mr4kuae\"><span class=\"duet--article--dangerously-set-cms-markup\">Understand the world with a daily explainer plus the most compelling stories of the day.</span></p>, <p class=\"duet--article--dangerously-set-cms-markup _1neefeej _1neefeee _1neefeef\">The Biden White House is considering pardons for some of Trump’s perceived enemies. But a presidential pardon would only give limited protection.</p>, <p class=\"duet--article--dangerously-set-cms-markup _1neefeej _1neefeee _1neefeef\">Without enough houses for its growing homeless population, the city is using machine learning to make its process fairer.</p>, <p class=\"duet--article--dangerously-set-cms-markup _1neefeej _1neefeee _1neefeef\"><em>The present — and future — of the right and the left, explained.</em></p>, <p class=\"duet--article--dangerously-set-cms-markup _1neefeej _1neefeee _1neefeef\">Trump’s win has ignited a wave of bullying — again.</p>, <p class=\"duet--article--dangerously-set-cms-markup _1neefeej _1neefeee _1neefeef\">The political crisis is months in the making</p>, <p class=\"duet--article--dangerously-set-cms-markup _1neefeej _1neefeee _1neefeef\">What 3 new books reveal about where the housing movement goes next.</p>, <p class=\"_149cuuw8\">© <!-- -->2024<!-- --> <a href=\"https://www.voxmedia.com\" rel=\"nofollow\">Vox Media</a>, LLC. All Rights Reserved</p>]\n"
     ]
    }
   ],
   "source": [
    "import requests\n",
    "from bs4 import BeautifulSoup\n",
    "\n",
    "# Making a GET request\n",
    "r = requests.get('https://www.vox.com/policy/390031/anthem-blue-cross-blue-shield-anesthesia-limits-insurance')\n",
    "\n",
    "# Parsing the HTML\n",
    "soup = BeautifulSoup(r.content, 'html.parser')\n",
    "\n",
    "s = soup.find('div', class_='entry-content')\n",
    "content = soup.find_all('p')\n",
    "\n",
    "print(content)\n"
   ]
  },
  {
   "cell_type": "code",
   "execution_count": 4,
   "metadata": {},
   "outputs": [],
   "source": [
    "import os\n",
    "from openai import OpenAI\n",
    "from dotenv import load_dotenv\n",
    "load_dotenv()\n",
    "\n",
    "\n",
    "client = OpenAI(\n",
    "    base_url=\"https://api.groq.com/openai/v1\",\n",
    "    api_key=os.environ.get(\"OPENAI_API_KEY\")\n",
    ")"
   ]
  },
  {
   "cell_type": "code",
   "execution_count": 131,
   "metadata": {},
   "outputs": [
    {
     "data": {
      "text/plain": [
       "[<p class=\"duet--article--dangerously-set-cms-markup\">If you believe in the work we do at Vox, <b>please support us by becoming a member.</b> Our mission has never been more urgent. But our work isn’t easy. It requires resources, dedication, and independence. And that’s where you come in.</p>,\n",
       " <p class=\"duet--article--dangerously-set-cms-markup _1juo5fma\">We rely on readers like you to fund our journalism. <strong>Will you support our work and become a Vox Member today?</strong></p>,\n",
       " <p class=\"duet--article--dangerously-set-cms-markup h74scy9 h74scy8 xkp0cg9\">What the fight between Anthem and anesthesiologists was really about.</p>,\n",
       " <p class=\"\"><span>by</span> <span><span></span> <span class=\"_15r56j12 _15r56j13\"><a href=\"/authors/eric-levitz\">Eric Levitz</a></span></span></p>,\n",
       " <p class=\"duet--article--dangerously-set-cms-markup duet--article--standard-paragraph _1agbrixh lg8ac51 lg8ac50 xkp0cg0\">In November, the American Society of Anesthesiologists (ASA) <a href=\"https://www.asahq.org/about-asa/newsroom/news-releases/2024/11/anthem-blue-cross-blue-shield-will-not-pay-complete-duration-of-anesthesia-for-surgical-procedures\">issued a dire warning</a>: One of America’s largest insurance companies — Anthem Blue Cross and Blue Shield — had just “unilaterally declared it will no longer pay for anesthesia care if the surgery or procedure goes beyond an arbitrary time limit, regardless of how long the surgical procedure takes.” The decision applied to Anthem’s plans in Connecticut, New York, and Missouri. </p>,\n",
       " <p class=\"duet--article--dangerously-set-cms-markup duet--article--standard-paragraph _1agbrixh lg8ac51 lg8ac50 xkp0cg0\">This announcement gained national attention Wednesday, after the <a href=\"https://www.nytimes.com/2024/12/04/nyregion/unitedhealthcare-brian-thompson-shooting.html\">fatal shooting of UnitedHealthcare CEO Brian Thompson</a> parked widespread discussion of controversial insurance industry practices on social media. A <a href=\"https://www.npr.org/2024/12/05/nx-s1-5217617/blue-cross-blue-shield-anesthesia-anthem\">populist furor against Anthem ensued</a>. People imagined patients waking up from surgery to find they owed thousands of dollars because their procedure went 15 minutes long. </p>,\n",
       " <p class=\"duet--article--dangerously-set-cms-markup duet--article--standard-paragraph _1agbrixh lg8ac51 lg8ac50 xkp0cg0\">Rage at the insurer spread from <a href=\"https://x.com/PopCrave/status/1864408802981777455/quotes\">X users</a> to government officials, with Connecticut Sen. <a href=\"https://x.com/ChrisMurphyCT/status/1864430606752358887\">Chris Murphy</a> and New York Gov. <a href=\"https://x.com/GovKathyHochul/status/1864495315362926753\">Kathy Hochul</a> both condemning the insurer’s decision, with the former tweeting, “This is appalling. Saddling patients with thousands of dollars in surprise additional medical debt. And for what? Just to boost corporate profits?” By Thursday, <a href=\"https://providernews.anthem.com/new-york/articles/update-to-anesthesia-billed-time-units-policy-23312\">Anthem had revoked the policy</a>.</p>,\n",
       " <p class=\"duet--article--dangerously-set-cms-markup duet--article--standard-paragraph _1agbrixh lg8ac51 lg8ac50 xkp0cg0\">Yet this whole tumult was badly misguided. </p>,\n",
       " <p class=\"duet--article--dangerously-set-cms-markup duet--article--standard-paragraph _1agbrixh lg8ac51 lg8ac50 xkp0cg0\">Americans have many justified grievances with insurance companies, which often refuse to cover necessary care.</p>,\n",
       " <p class=\"duet--article--dangerously-set-cms-markup duet--article--standard-paragraph _1agbrixh lg8ac51 lg8ac50 xkp0cg0\">But this particular fight was not actually about putting the interests of patients against those of rapacious corporations. Anthem’s policy would not have increased costs for their enrollees. Rather, it would have reduced payments for some of <a href=\"https://www.inspiraadvantage.com/blog/highest-paid-doctors-in-the-us\">the most overpaid physicians in America</a>. And when millionaire doctors beat back cost controls — as they have here — patients pay the price through higher premiums. </p>,\n",
       " <p class=\"duet--article--dangerously-set-cms-markup duet--article--standard-paragraph _1agbrixh lg8ac51 lg8ac50 xkp0cg0\">Anesthesia services are billed partially on the basis of <a href=\"https://www.coronishealth.com/blog/why-is-time-important-when-billing-for-anesthesia-services#\">how long a procedure takes</a>. This creates an incentive for anesthesiologists to err on the side of exaggerating how long their services were required during an operation. And there is <a href=\"https://jamanetwork.com/journals/jamanetworkopen/fullarticle/2713030\">evidence</a> that some anesthesiologists may engage in overbilling by overstating the length of a procedure, or the degree of risk a patient faces in undergoing anesthesia.</p>,\n",
       " <p class=\"duet--article--dangerously-set-cms-markup duet--article--standard-paragraph _1agbrixh lg8ac51 lg8ac50 xkp0cg0\">Starting in February, Anthem had planned to discourage overbilling by adopting a set of maximum time limits for procedures, inspired by data from the Centers for Medicare and Medicaid Services. If an operation went long for medically necessary reasons, anesthesiologists could appeal for higher payment. But the process of reimbursement would be more arduous. </p>,\n",
       " <p class=\"duet--article--dangerously-set-cms-markup duet--article--standard-paragraph _1agbrixh lg8ac51 lg8ac50 xkp0cg0\">Critically, contrary to Sen. Murphy’s claims, this policy would not have saddled patients with surprise bills, if their operations went over time. The burden of this cost control would have fallen on participating anesthesiologists, not patients, according to <a href=\"https://bloch.umkc.edu/profiles/faculty-directory/christopher-garmon.html\">Christopher Garmon</a>, associate professor of health administration at the University of Missouri-Kansas City’s Henry W. Bloch School of Management.</p>,\n",
       " <p class=\"duet--article--dangerously-set-cms-markup duet--article--standard-paragraph _1agbrixh lg8ac51 lg8ac50 xkp0cg0\">“Say there is a contract between an insurance company like Anthem and an anesthesiologist,” Garmon told Vox. “What is always in that contract is a clause that says, ‘You, the provider, agree to accept the reimbursement rules in this contract as payment in full.’ That means the provider cannot then turn around and ask [the patient] for money.”</p>,\n",
       " <p class=\"duet--article--dangerously-set-cms-markup duet--article--standard-paragraph _1agbrixh lg8ac51 lg8ac50 xkp0cg0\">Private insurance companies have earned the public’s distrust. They routinely put profitability above their policyholders’ well-being. And a system of private health insurance provision also has <a href=\"https://www.peoplespolicyproject.org/2020/12/11/cbo-medicare-for-all-reduces-health-spending/\">higher administrative costs than a single-payer system</a>, in which the government is the sole insurer.</p>,\n",
       " <p class=\"duet--article--dangerously-set-cms-markup duet--article--standard-paragraph _1agbrixh lg8ac51 lg8ac50 xkp0cg0\">But the avarice and inefficiencies of private insurers are not the sole — or even primary — reasons why vital medical services are often unaffordable and inaccessible in the United States. The bigger issue is that America’s health care providers — hospitals, physicians, and <a href=\"https://www.rand.org/news/press/2024/02/01.html\">drug companies</a> — charge much higher rates than their peers in other wealthy nations. </p>,\n",
       " <p class=\"duet--article--dangerously-set-cms-markup duet--article--standard-paragraph _1agbrixh lg8ac51 lg8ac50 xkp0cg0\">In 2021, the US spent nearly <a href=\"https://www.healthsystemtracker.org/chart-collection/health-spending-u-s-compare-countries/\">twice as much per capita</a> on health care than other developed countries. According to the <a href=\"https://www.healthsystemtracker.org/brief/what-drives-health-spending-in-the-u-s-compared-to-other-countries/#Healthcare%20spending%20per%20capita,%20by%20spending%20category,%202021\">Kaiser Family Foundation</a>, this gap is mostly explained by higher payments to hospitals and physicians. Americans spend $7,500 per person on inpatient and outpatient care, while other rich nations spend an average of $2,969 per person. This is not because Americans are receiving more medical care than their peers abroad; on the contrary, we make fewer doctors’ visits per capita and have shorter average hospital stays. We just pay much higher prices. </p>,\n",
       " <p class=\"duet--article--dangerously-set-cms-markup duet--article--standard-paragraph _1agbrixh lg8ac51 lg8ac50 xkp0cg0\">In 2023, the <a href=\"https://www.beckersasc.com/asc-news/physician-compensation-in-the-us-vs-10-other-countries.html#2\">average physician salary</a> in the United States was $352,000. In Germany, that figure was $160,000; in the United Kingdom, it was $122,000; in France, it was $93,000.</p>,\n",
       " <p class=\"duet--article--dangerously-set-cms-markup duet--article--standard-paragraph _1agbrixh lg8ac51 lg8ac50 xkp0cg0\">This discrepancy is partly explained by the fact that those European nations have more socialized health care systems, in which the government imposes more cost controls on medical providers. In the past, progressives have emphasized that a Medicare-for-all system would reduce overall health care costs by forcing providers to accept lower payments.</p>,\n",
       " <p class=\"duet--article--dangerously-set-cms-markup duet--article--standard-paragraph _1agbrixh lg8ac51 lg8ac50 xkp0cg0\">With its new policy, Anthem was attempting to do precisely this: force anesthesiologists to accept lower rates of reimbursement. </p>,\n",
       " <p class=\"duet--article--dangerously-set-cms-markup duet--article--standard-paragraph _1agbrixh lg8ac51 lg8ac50 xkp0cg0\">And the case for forcing down payment rates for anesthesiologists is especially strong. According to Medscape’s <a href=\"https://www.medscape.com/slideshow/2024-compensation-anesthesiologist-6017131?icd=login_success_email_match_norm\">2024 Anesthesiologist Salary Report</a>, the average salary for an American <a href=\"https://comphealth.com/resources/anesthesiologist-salary-report-2024\">anesthesiologist in 2023 was $472,000</a>. This represented a $70,000 increase over the field’s average salary in 2022. This makes anesthesiologists among the top five highest-earning specialists in the United States.</p>,\n",
       " <p class=\"duet--article--dangerously-set-cms-markup duet--article--standard-paragraph _1agbrixh lg8ac51 lg8ac50 xkp0cg0\">If we want America’s health care system to treat more patients — while charging us all less money for coverage — then there is no alternative to forcing myriad specialists to accept lower payment rates. Ideally, we would do this through a comprehensive system of public cost controls and insurance provision. Failing that, we need private insurers to drive a harder bargain with the most expensive doctors and hospitals. When we demonize insurers for doing precisely that, we aren’t standing up against our health care sector’s profiteers — we’re sticking up for them.</p>,\n",
       " <p class=\"_1tzd3in1\">You’ve read <!-- -->1<!-- --> article<!-- --> in the last month</p>,\n",
       " <p class=\"_1tzd3in4\">Here at Vox, we're unwavering in our commitment to covering the issues that matter most to you — threats to democracy, immigration, reproductive rights, the environment, and the rising polarization across this country.</p>,\n",
       " <p class=\"_1tzd3in4\">Our mission is to provide clear, accessible journalism that empowers you to stay informed and engaged in shaping our world. By becoming a<!-- --> <!-- -->Vox Member, you directly strengthen our ability to deliver in-depth, independent reporting that drives meaningful change.</p>,\n",
       " <p class=\"_1tzd3in4\">We rely on readers like you — join us.</p>,\n",
       " <p class=\"_1tzd3in8\">Swati Sharma</p>,\n",
       " <p class=\"_1tzd3in9\">Vox Editor-in-Chief</p>,\n",
       " <p>We accept credit card, Apple Pay, and Google Pay. <br/>You can also contribute via</p>,\n",
       " <p class=\"mr4kuae\"><span class=\"duet--article--dangerously-set-cms-markup\">Understand the world with a daily explainer plus the most compelling stories of the day.</span></p>,\n",
       " <p class=\"duet--article--dangerously-set-cms-markup _1neefeej _1neefeee _1neefeef\">The Biden White House is considering pardons for some of Trump’s perceived enemies. But a presidential pardon would only give limited protection.</p>,\n",
       " <p class=\"duet--article--dangerously-set-cms-markup _1neefeej _1neefeee _1neefeef\">Without enough houses for its growing homeless population, the city is using machine learning to make its process fairer.</p>,\n",
       " <p class=\"duet--article--dangerously-set-cms-markup _1neefeej _1neefeee _1neefeef\"><em>The present — and future — of the right and the left, explained.</em></p>,\n",
       " <p class=\"duet--article--dangerously-set-cms-markup _1neefeej _1neefeee _1neefeef\">Trump’s win has ignited a wave of bullying — again.</p>,\n",
       " <p class=\"duet--article--dangerously-set-cms-markup _1neefeej _1neefeee _1neefeef\">The political crisis is months in the making</p>,\n",
       " <p class=\"duet--article--dangerously-set-cms-markup _1neefeej _1neefeee _1neefeef\">What 3 new books reveal about where the housing movement goes next.</p>,\n",
       " <p class=\"_149cuuw8\">© <!-- -->2024<!-- --> <a href=\"https://www.voxmedia.com\" rel=\"nofollow\">Vox Media</a>, LLC. All Rights Reserved</p>]"
      ]
     },
     "execution_count": 131,
     "metadata": {},
     "output_type": "execute_result"
    }
   ],
   "source": [
    "content"
   ]
  },
  {
   "cell_type": "code",
   "execution_count": 132,
   "metadata": {},
   "outputs": [
    {
     "data": {
      "text/plain": [
       "\"If you believe in the work we do at Vox, please support us by becoming a member. Our mission has never been more urgent. But our work isn’t easy. It requires resources, dedication, and independence. And that’s where you come in. We rely on readers like you to fund our journalism. Will you support our work and become a Vox Member today? What the fight between Anthem and anesthesiologists was really about. by  Eric Levitz In November, the American Society of Anesthesiologists (ASA) issued a dire warning: One of America’s largest insurance companies — Anthem Blue Cross and Blue Shield — had just “unilaterally declared it will no longer pay for anesthesia care if the surgery or procedure goes beyond an arbitrary time limit, regardless of how long the surgical procedure takes.” The decision applied to Anthem’s plans in Connecticut, New York, and Missouri.  This announcement gained national attention Wednesday, after the fatal shooting of UnitedHealthcare CEO Brian Thompson parked widespread discussion of controversial insurance industry practices on social media. A populist furor against Anthem ensued. People imagined patients waking up from surgery to find they owed thousands of dollars because their procedure went 15 minutes long.  Rage at the insurer spread from X users to government officials, with Connecticut Sen. Chris Murphy and New York Gov. Kathy Hochul both condemning the insurer’s decision, with the former tweeting, “This is appalling. Saddling patients with thousands of dollars in surprise additional medical debt. And for what? Just to boost corporate profits?” By Thursday, Anthem had revoked the policy. Yet this whole tumult was badly misguided.  Americans have many justified grievances with insurance companies, which often refuse to cover necessary care. But this particular fight was not actually about putting the interests of patients against those of rapacious corporations. Anthem’s policy would not have increased costs for their enrollees. Rather, it would have reduced payments for some of the most overpaid physicians in America. And when millionaire doctors beat back cost controls — as they have here — patients pay the price through higher premiums.  Anesthesia services are billed partially on the basis of how long a procedure takes. This creates an incentive for anesthesiologists to err on the side of exaggerating how long their services were required during an operation. And there is evidence that some anesthesiologists may engage in overbilling by overstating the length of a procedure, or the degree of risk a patient faces in undergoing anesthesia. Starting in February, Anthem had planned to discourage overbilling by adopting a set of maximum time limits for procedures, inspired by data from the Centers for Medicare and Medicaid Services. If an operation went long for medically necessary reasons, anesthesiologists could appeal for higher payment. But the process of reimbursement would be more arduous.  Critically, contrary to Sen. Murphy’s claims, this policy would not have saddled patients with surprise bills, if their operations went over time. The burden of this cost control would have fallen on participating anesthesiologists, not patients, according to Christopher Garmon, associate professor of health administration at the University of Missouri-Kansas City’s Henry W. Bloch School of Management. “Say there is a contract between an insurance company like Anthem and an anesthesiologist,” Garmon told Vox. “What is always in that contract is a clause that says, ‘You, the provider, agree to accept the reimbursement rules in this contract as payment in full.’ That means the provider cannot then turn around and ask [the patient] for money.” Private insurance companies have earned the public’s distrust. They routinely put profitability above their policyholders’ well-being. And a system of private health insurance provision also has higher administrative costs than a single-payer system, in which the government is the sole insurer. But the avarice and inefficiencies of private insurers are not the sole — or even primary — reasons why vital medical services are often unaffordable and inaccessible in the United States. The bigger issue is that America’s health care providers — hospitals, physicians, and drug companies — charge much higher rates than their peers in other wealthy nations.  In 2021, the US spent nearly twice as much per capita on health care than other developed countries. According to the Kaiser Family Foundation, this gap is mostly explained by higher payments to hospitals and physicians. Americans spend $7,500 per person on inpatient and outpatient care, while other rich nations spend an average of $2,969 per person. This is not because Americans are receiving more medical care than their peers abroad; on the contrary, we make fewer doctors’ visits per capita and have shorter average hospital stays. We just pay much higher prices.  In 2023, the average physician salary in the United States was $352,000. In Germany, that figure was $160,000; in the United Kingdom, it was $122,000; in France, it was $93,000. This discrepancy is partly explained by the fact that those European nations have more socialized health care systems, in which the government imposes more cost controls on medical providers. In the past, progressives have emphasized that a Medicare-for-all system would reduce overall health care costs by forcing providers to accept lower payments. With its new policy, Anthem was attempting to do precisely this: force anesthesiologists to accept lower rates of reimbursement.  And the case for forcing down payment rates for anesthesiologists is especially strong. According to Medscape’s 2024 Anesthesiologist Salary Report, the average salary for an American anesthesiologist in 2023 was $472,000. This represented a $70,000 increase over the field’s average salary in 2022. This makes anesthesiologists among the top five highest-earning specialists in the United States. If we want America’s health care system to treat more patients — while charging us all less money for coverage — then there is no alternative to forcing myriad specialists to accept lower payment rates. Ideally, we would do this through a comprehensive system of public cost controls and insurance provision. Failing that, we need private insurers to drive a harder bargain with the most expensive doctors and hospitals. When we demonize insurers for doing precisely that, we aren’t standing up against our health care sector’s profiteers — we’re sticking up for them. You’ve read 1 article in the last month Here at Vox, we're unwavering in our commitment to covering the issues that matter most to you — threats to democracy, immigration, reproductive rights, the environment, and the rising polarization across this country. Our mission is to provide clear, accessible journalism that empowers you to stay informed and engaged in shaping our world. By becoming a Vox Member, you directly strengthen our ability to deliver in-depth, independent reporting that drives meaningful change. We rely on readers like you — join us. Swati Sharma Vox Editor-in-Chief We accept credit card, Apple Pay, and Google Pay. You can also contribute via Understand the world with a daily explainer plus the most compelling stories of the day. The Biden White House is considering pardons for some of Trump’s perceived enemies. But a presidential pardon would only give limited protection. Without enough houses for its growing homeless population, the city is using machine learning to make its process fairer. The present — and future — of the right and the left, explained. Trump’s win has ignited a wave of bullying — again. The political crisis is months in the making What 3 new books reveal about where the housing movement goes next. © 2024 Vox Media, LLC. All Rights Reserved\""
      ]
     },
     "execution_count": 132,
     "metadata": {},
     "output_type": "execute_result"
    }
   ],
   "source": [
    "article_text = \" \".join([p.text for p in content])\n",
    "article_text"
   ]
  },
  {
   "cell_type": "code",
   "execution_count": 133,
   "metadata": {},
   "outputs": [],
   "source": [
    "prompt = f\"\"\"\n",
    "You are an expert financial analyst.\n",
    "Based on the text in the article below, return a list of stock tickers that are related directly or indirectly to the article.\n",
    "\n",
    "<article_text>\n",
    "{article_text}\n",
    "</article_text>\n",
    "\n",
    "Return your response in JSON format like this example:\n",
    "{{\n",
    "  \"response\": [\n",
    "    {{\n",
    "      \"ticker\": \"AAPL\",\n",
    "      \"explanation\": \"<explanation of why the company is related to the article>\"\n",
    "    }},\n",
    "    {{\n",
    "      \"ticker\": \"TSLA\"\n",
    "      \"explanation\": \"<explanation of why the company is related to the article>\"\n",
    "      \"sentiment\": \"<number from 0 to 10 on how postive or negative the article is for the company>\"\n",
    "    }},\n",
    "  ]\n",
    "}}\n",
    "\"\"\"\n",
    "\n",
    "llm_response = client.chat.completions.create(\n",
    "    model=\"llama-3.1-70b-versatile\",\n",
    "    messages=[\n",
    "        {\"role\": \"user\", \"content\": prompt}\n",
    "    ],\n",
    "    response_format={\"type\": \"json_object\"}\n",
    ")\n",
    "\n",
    "response = llm_response.choices[0].message.content  "
   ]
  },
  {
   "cell_type": "code",
   "execution_count": 134,
   "metadata": {},
   "outputs": [
    {
     "name": "stdout",
     "output_type": "stream",
     "text": [
      "{\n",
      "   \"response\":[{\n",
      "      \"ticker\":\"ANTM\",\n",
      "      \"explanation\":\"The article mentions Anthem Blue Cross and Blue Shield, an insurance company owned by Anthem Inc., the parent company.\",\n",
      "      \"sentiment\":6\n",
      "   },\n",
      "   {\n",
      "      \"ticker\":\"UNH\",\n",
      "      \"explanation\":\"The article mentions UnitedHealthcare CEO Brian Thompson, indicating a connection to the company UnitedHealth Group Inc., which owns UnitedHealthcare.\",\n",
      "      \"sentiment\":4\n",
      "   }]\n",
      "}\n"
     ]
    }
   ],
   "source": [
    "print(response)"
   ]
  },
  {
   "cell_type": "code",
   "execution_count": 8,
   "metadata": {},
   "outputs": [
    {
     "name": "stdout",
     "output_type": "stream",
     "text": [
      "As an expert financial analyst, I can provide you with a list of companies that specialize in building data centers. Keep in mind that this list is not exhaustive and may have changed since my knowledge cutoff date. Here are some notable companies that build data centers:\n",
      "\n",
      "1. **Digital Realty Trust** (DLR): A real estate investment trust (REIT) that owns, operates, and manages data center facilities worldwide.\n",
      "2. **Equinix** (EQIX): A global data center company that operates a network of interconnected data centers across the Americas, EMEA, and Asia-Pacific.\n",
      "3. **CoreSite Realty Corporation** (COR): A REIT that owns, operates, and manages data center facilities in the United States.\n",
      "4. **QTS Realty Trust** (QTS): A REIT that owns, operates, and manages data center facilities in the United States.\n",
      "5. **Switch** (SWCH): A data center company that designs, builds, and operates data center facilities in the United States and internationally.\n",
      "6. **Radianz (formerly part of BT Group)**: Now acquired by Interxion - (a Kao/Data Center focused company from Kao family via: Kao Partners & and later it operates as part of Interxion’s headquarters before its later acquisition by Digital Realty 2020) although switched up operational: is no longer operational for itself and has gone through multiple rounds of organizational restructuring, It was a large Network operation (acquired by Equinix and formerly REIT focused: However before Kao family restructuring.).\n",
      "7. **Interxion** (now part of Digital Realty): A European data center company that operates a network of interconnected data centers across Europe.\n",
      "8. **Keppel Data Centres**: A Singapore-based company that designs, builds, and operates data center facilities in Asia-Pacific and Europe.\n",
      "9. **Singtel**: A Singapore-based telecommunications company that owns and operates data center facilities in Asia-Pacific.\n",
      "10. **NTT Communications**: A Japanese telecommunications company that owns and operates data center facilities worldwide.\n",
      "11. **CyrusOne** (CONE): A REIT that owns, operates, and manages data center facilities in the United States, Europe, and Asia-Pacific.\n",
      "12. **Alcoa’s green Data Center (to aluminum industrial space sharing.)**: (sold), acquisition’s were on then-offer by HCL Tech holding over multiple geographic’s such that most such the multiple of international steel and aluminum’ to the growing eco-tech) DFR building.\n"
     ]
    }
   ],
   "source": [
    "import json\n",
    "def getQueryResponse(query):\n",
    "  prompt = \"You are an expert financial analyst. Answer the following question: \" + query\n",
    "  llm_response = client.chat.completions.create(\n",
    "    model=\"llama-3.1-70b-versatile\",\n",
    "    messages=[\n",
    "        {\"role\": \"user\", \"content\": prompt}\n",
    "    ],\n",
    "  )\n",
    "\n",
    "  response = llm_response.choices[0].message.content\n",
    "  return response\n",
    "  \n",
    "\n",
    "print(getQueryResponse(\"What are companies that build data centers?\"))"
   ]
  }
 ],
 "metadata": {
  "kernelspec": {
   "display_name": "Python 3",
   "language": "python",
   "name": "python3"
  },
  "language_info": {
   "codemirror_mode": {
    "name": "ipython",
    "version": 3
   },
   "file_extension": ".py",
   "mimetype": "text/x-python",
   "name": "python",
   "nbconvert_exporter": "python",
   "pygments_lexer": "ipython3",
   "version": "3.12.2"
  }
 },
 "nbformat": 4,
 "nbformat_minor": 2
}
